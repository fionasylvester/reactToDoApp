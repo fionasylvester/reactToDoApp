{
  "nbformat": 4,
  "nbformat_minor": 0,
  "metadata": {
    "colab": {
      "name": "H1_answers.ipynb",
      "provenance": [],
      "collapsed_sections": [],
      "include_colab_link": true
    },
    "kernelspec": {
      "name": "python3",
      "display_name": "Python 3"
    },
    "language_info": {
      "name": "python"
    }
  },
  "cells": [
    {
      "cell_type": "markdown",
      "metadata": {
        "id": "view-in-github",
        "colab_type": "text"
      },
      "source": [
        "<a href=\"https://colab.research.google.com/github/fionasylvester/reactToDoApp/blob/master/H1_answers.ipynb\" target=\"_parent\"><img src=\"https://colab.research.google.com/assets/colab-badge.svg\" alt=\"Open In Colab\"/></a>"
      ]
    },
    {
      "cell_type": "markdown",
      "metadata": {
        "id": "crkwZf5SCyER"
      },
      "source": [
        "The main idea of this assignment is explore \n",
        "1.   Basic Operation \n",
        "           - print statement \n",
        "           - how to get help \n",
        "           - declare variables \n",
        "           - assign values\n",
        "2. Working with Integers \n",
        "           - operators \n",
        "           - functions \n",
        "3. Working with Strings \n",
        "           - operators \n",
        "           - functions \n",
        "4. Handling Errors \n",
        "           - Syntax \n",
        "           - Run Time \n",
        "           - Logical\n",
        "\n",
        "\n",
        "\n"
      ]
    },
    {
      "cell_type": "code",
      "metadata": {
        "id": "GPfG8zb3LBT5",
        "colab": {
          "base_uri": "https://localhost:8080/"
        },
        "outputId": "fe5f23e3-a4ab-47f0-bd71-d79227539d1b"
      },
      "source": [
        "# print your name \n",
        "print(\"fiona\")\n",
        "# print your hobbies \n",
        "a= \"painting\",\"travelling\"\n",
        "for i in a:\n",
        "  print(i)\n",
        "# print your registration number\n",
        "print(\"211057104\")"
      ],
      "execution_count": 13,
      "outputs": [
        {
          "output_type": "stream",
          "name": "stdout",
          "text": [
            "fiona\n",
            "painting\n",
            "travelling\n",
            "211057104\n"
          ]
        }
      ]
    },
    {
      "cell_type": "code",
      "metadata": {
        "id": "NYfLS3UvO14i",
        "colab": {
          "base_uri": "https://localhost:8080/",
          "height": 1000
        },
        "outputId": "12758210-604b-43e0-ab74-d8618e08390e"
      },
      "source": [
        "# how to get more information about print functions \n",
        "help(print)\n",
        "\n",
        "# how to get more infromation about math module \n",
        "help(math)\n",
        "\n",
        "# how to get more information about symbols \n",
        "help(symbols)"
      ],
      "execution_count": 12,
      "outputs": [
        {
          "output_type": "stream",
          "name": "stdout",
          "text": [
            "Help on built-in function print in module builtins:\n",
            "\n",
            "print(...)\n",
            "    print(value, ..., sep=' ', end='\\n', file=sys.stdout, flush=False)\n",
            "    \n",
            "    Prints the values to a stream, or to sys.stdout by default.\n",
            "    Optional keyword arguments:\n",
            "    file:  a file-like object (stream); defaults to the current sys.stdout.\n",
            "    sep:   string inserted between values, default a space.\n",
            "    end:   string appended after the last value, default a newline.\n",
            "    flush: whether to forcibly flush the stream.\n",
            "\n",
            "\n",
            "Welcome to Python 3.7's help utility!\n",
            "\n",
            "If this is your first time using Python, you should definitely check out\n",
            "the tutorial on the Internet at https://docs.python.org/3.7/tutorial/.\n",
            "\n",
            "Enter the name of any module, keyword, or topic to get help on writing\n",
            "Python programs and using Python modules.  To quit this help utility and\n",
            "return to the interpreter, just type \"quit\".\n",
            "\n",
            "To get a list of available modules, keywords, symbols, or topics, type\n",
            "\"modules\", \"keywords\", \"symbols\", or \"topics\".  Each module also comes\n",
            "with a one-line summary of what it does; to list the modules whose name\n",
            "or summary contain a given string such as \"spam\", type \"modules spam\".\n",
            "\n",
            "help> math\n",
            "Help on built-in module math:\n",
            "\n",
            "NAME\n",
            "    math\n",
            "\n",
            "DESCRIPTION\n",
            "    This module provides access to the mathematical functions\n",
            "    defined by the C standard.\n",
            "\n",
            "FUNCTIONS\n",
            "    acos(x, /)\n",
            "        Return the arc cosine (measured in radians) of x.\n",
            "    \n",
            "    acosh(x, /)\n",
            "        Return the inverse hyperbolic cosine of x.\n",
            "    \n",
            "    asin(x, /)\n",
            "        Return the arc sine (measured in radians) of x.\n",
            "    \n",
            "    asinh(x, /)\n",
            "        Return the inverse hyperbolic sine of x.\n",
            "    \n",
            "    atan(x, /)\n",
            "        Return the arc tangent (measured in radians) of x.\n",
            "    \n",
            "    atan2(y, x, /)\n",
            "        Return the arc tangent (measured in radians) of y/x.\n",
            "        \n",
            "        Unlike atan(y/x), the signs of both x and y are considered.\n",
            "    \n",
            "    atanh(x, /)\n",
            "        Return the inverse hyperbolic tangent of x.\n",
            "    \n",
            "    ceil(x, /)\n",
            "        Return the ceiling of x as an Integral.\n",
            "        \n",
            "        This is the smallest integer >= x.\n",
            "    \n",
            "    copysign(x, y, /)\n",
            "        Return a float with the magnitude (absolute value) of x but the sign of y.\n",
            "        \n",
            "        On platforms that support signed zeros, copysign(1.0, -0.0)\n",
            "        returns -1.0.\n",
            "    \n",
            "    cos(x, /)\n",
            "        Return the cosine of x (measured in radians).\n",
            "    \n",
            "    cosh(x, /)\n",
            "        Return the hyperbolic cosine of x.\n",
            "    \n",
            "    degrees(x, /)\n",
            "        Convert angle x from radians to degrees.\n",
            "    \n",
            "    erf(x, /)\n",
            "        Error function at x.\n",
            "    \n",
            "    erfc(x, /)\n",
            "        Complementary error function at x.\n",
            "    \n",
            "    exp(x, /)\n",
            "        Return e raised to the power of x.\n",
            "    \n",
            "    expm1(x, /)\n",
            "        Return exp(x)-1.\n",
            "        \n",
            "        This function avoids the loss of precision involved in the direct evaluation of exp(x)-1 for small x.\n",
            "    \n",
            "    fabs(x, /)\n",
            "        Return the absolute value of the float x.\n",
            "    \n",
            "    factorial(x, /)\n",
            "        Find x!.\n",
            "        \n",
            "        Raise a ValueError if x is negative or non-integral.\n",
            "    \n",
            "    floor(x, /)\n",
            "        Return the floor of x as an Integral.\n",
            "        \n",
            "        This is the largest integer <= x.\n",
            "    \n",
            "    fmod(x, y, /)\n",
            "        Return fmod(x, y), according to platform C.\n",
            "        \n",
            "        x % y may differ.\n",
            "    \n",
            "    frexp(x, /)\n",
            "        Return the mantissa and exponent of x, as pair (m, e).\n",
            "        \n",
            "        m is a float and e is an int, such that x = m * 2.**e.\n",
            "        If x is 0, m and e are both 0.  Else 0.5 <= abs(m) < 1.0.\n",
            "    \n",
            "    fsum(seq, /)\n",
            "        Return an accurate floating point sum of values in the iterable seq.\n",
            "        \n",
            "        Assumes IEEE-754 floating point arithmetic.\n",
            "    \n",
            "    gamma(x, /)\n",
            "        Gamma function at x.\n",
            "    \n",
            "    gcd(x, y, /)\n",
            "        greatest common divisor of x and y\n",
            "    \n",
            "    hypot(x, y, /)\n",
            "        Return the Euclidean distance, sqrt(x*x + y*y).\n",
            "    \n",
            "    isclose(a, b, *, rel_tol=1e-09, abs_tol=0.0)\n",
            "        Determine whether two floating point numbers are close in value.\n",
            "        \n",
            "          rel_tol\n",
            "            maximum difference for being considered \"close\", relative to the\n",
            "            magnitude of the input values\n",
            "          abs_tol\n",
            "            maximum difference for being considered \"close\", regardless of the\n",
            "            magnitude of the input values\n",
            "        \n",
            "        Return True if a is close in value to b, and False otherwise.\n",
            "        \n",
            "        For the values to be considered close, the difference between them\n",
            "        must be smaller than at least one of the tolerances.\n",
            "        \n",
            "        -inf, inf and NaN behave similarly to the IEEE 754 Standard.  That\n",
            "        is, NaN is not close to anything, even itself.  inf and -inf are\n",
            "        only close to themselves.\n",
            "    \n",
            "    isfinite(x, /)\n",
            "        Return True if x is neither an infinity nor a NaN, and False otherwise.\n",
            "    \n",
            "    isinf(x, /)\n",
            "        Return True if x is a positive or negative infinity, and False otherwise.\n",
            "    \n",
            "    isnan(x, /)\n",
            "        Return True if x is a NaN (not a number), and False otherwise.\n",
            "    \n",
            "    ldexp(x, i, /)\n",
            "        Return x * (2**i).\n",
            "        \n",
            "        This is essentially the inverse of frexp().\n",
            "    \n",
            "    lgamma(x, /)\n",
            "        Natural logarithm of absolute value of Gamma function at x.\n",
            "    \n",
            "    log(...)\n",
            "        log(x, [base=math.e])\n",
            "        Return the logarithm of x to the given base.\n",
            "        \n",
            "        If the base not specified, returns the natural logarithm (base e) of x.\n",
            "    \n",
            "    log10(x, /)\n",
            "        Return the base 10 logarithm of x.\n",
            "    \n",
            "    log1p(x, /)\n",
            "        Return the natural logarithm of 1+x (base e).\n",
            "        \n",
            "        The result is computed in a way which is accurate for x near zero.\n",
            "    \n",
            "    log2(x, /)\n",
            "        Return the base 2 logarithm of x.\n",
            "    \n",
            "    modf(x, /)\n",
            "        Return the fractional and integer parts of x.\n",
            "        \n",
            "        Both results carry the sign of x and are floats.\n",
            "    \n",
            "    pow(x, y, /)\n",
            "        Return x**y (x to the power of y).\n",
            "    \n",
            "    radians(x, /)\n",
            "        Convert angle x from degrees to radians.\n",
            "    \n",
            "    remainder(x, y, /)\n",
            "        Difference between x and the closest integer multiple of y.\n",
            "        \n",
            "        Return x - n*y where n*y is the closest integer multiple of y.\n",
            "        In the case where x is exactly halfway between two multiples of\n",
            "        y, the nearest even value of n is used. The result is always exact.\n",
            "    \n",
            "    sin(x, /)\n",
            "        Return the sine of x (measured in radians).\n",
            "    \n",
            "    sinh(x, /)\n",
            "        Return the hyperbolic sine of x.\n",
            "    \n",
            "    sqrt(x, /)\n",
            "        Return the square root of x.\n",
            "    \n",
            "    tan(x, /)\n",
            "        Return the tangent of x (measured in radians).\n",
            "    \n",
            "    tanh(x, /)\n",
            "        Return the hyperbolic tangent of x.\n",
            "    \n",
            "    trunc(x, /)\n",
            "        Truncates the Real x to the nearest Integral toward 0.\n",
            "        \n",
            "        Uses the __trunc__ magic method.\n",
            "\n",
            "DATA\n",
            "    e = 2.718281828459045\n",
            "    inf = inf\n",
            "    nan = nan\n",
            "    pi = 3.141592653589793\n",
            "    tau = 6.283185307179586\n",
            "\n",
            "FILE\n",
            "    (built-in)\n",
            "\n",
            "\n",
            "\n",
            "You are now leaving help and returning to the Python interpreter.\n",
            "If you want to ask for help on a particular object directly from the\n",
            "interpreter, you can type \"help(object)\".  Executing \"help('string')\"\n",
            "has the same effect as typing a particular string at the help> prompt.\n"
          ]
        },
        {
          "output_type": "error",
          "ename": "NameError",
          "evalue": "ignored",
          "traceback": [
            "\u001b[0;31m---------------------------------------------------------------------------\u001b[0m",
            "\u001b[0;31mNameError\u001b[0m                                 Traceback (most recent call last)",
            "\u001b[0;32m<ipython-input-12-250e058b8a70>\u001b[0m in \u001b[0;36m<module>\u001b[0;34m()\u001b[0m\n\u001b[1;32m      6\u001b[0m \u001b[0;34m\u001b[0m\u001b[0m\n\u001b[1;32m      7\u001b[0m \u001b[0;31m# how to get more information about symbols\u001b[0m\u001b[0;34m\u001b[0m\u001b[0;34m\u001b[0m\u001b[0;34m\u001b[0m\u001b[0m\n\u001b[0;32m----> 8\u001b[0;31m \u001b[0mhelp\u001b[0m\u001b[0;34m(\u001b[0m\u001b[0msymbols\u001b[0m\u001b[0;34m)\u001b[0m\u001b[0;34m\u001b[0m\u001b[0;34m\u001b[0m\u001b[0m\n\u001b[0m",
            "\u001b[0;31mNameError\u001b[0m: name 'symbols' is not defined"
          ]
        }
      ]
    },
    {
      "cell_type": "code",
      "metadata": {
        "id": "YmCpHvKVO5ud"
      },
      "source": [
        "# store your role model name in the variable \"role\"\n",
        "role= \" obama\"\n",
        "\n",
        "# describe your role model in the variable \"role_desc\"\n",
        "role_desc=\" lawyer and former president\"\n",
        "\n",
        "# store the numeric value in the variable \"my_values\"\n",
        "my_values= 5"
      ],
      "execution_count": null,
      "outputs": []
    },
    {
      "cell_type": "code",
      "metadata": {
        "id": "Jkev_gH2T4w7",
        "colab": {
          "base_uri": "https://localhost:8080/"
        },
        "outputId": "4851be5c-0f95-4807-cdd0-7f782105c4f0"
      },
      "source": [
        "# you can perform arithemetic opeartions using python arithmetic opeartors \n",
        "# To perform arithmetic opeations \n",
        "# If your run a 1000 Kilo Meter race in 143 minutes 30 seconds, what is your average time per mile? What is your average speed in miles per hour? \n",
        "# Hint : 1.61 kilometers in a mile\n",
        "\n",
        "distance= 1000/1.61\n",
        "time= 143/60 + 30/360\n",
        "average_speed= distance/time\n",
        "\n",
        "print(average_speed)"
      ],
      "execution_count": 15,
      "outputs": [
        {
          "output_type": "stream",
          "name": "stdout",
          "text": [
            "251.8045996306866\n"
          ]
        }
      ]
    },
    {
      "cell_type": "code",
      "metadata": {
        "id": "M0jRtr_pVDAO",
        "colab": {
          "base_uri": "https://localhost:8080/"
        },
        "outputId": "55d5068a-6c54-46de-fc72-a3f422b4a36c"
      },
      "source": [
        "# Suppose the cover price of a python book  is  577.95, but bookstores get a 40% discount.\n",
        "# Shipping costs  150 for the first copy and 50 Rupees for each additional copy. What is the total wholesale cost for 60 copies?\n",
        "\n",
        "book_price= 577.95*0.4\n",
        "shipping_cost = 150 + (59*50)\n",
        "total_cost = shipping_cost + (book_price*60)\n",
        "\n",
        "print(total_cost)\n"
      ],
      "execution_count": 18,
      "outputs": [
        {
          "output_type": "stream",
          "name": "stdout",
          "text": [
            "16970.800000000003\n"
          ]
        }
      ]
    },
    {
      "cell_type": "code",
      "metadata": {
        "id": "_lQDsw9z6EKD",
        "colab": {
          "base_uri": "https://localhost:8080/"
        },
        "outputId": "b73d12e1-a03d-4605-ad7a-ee26bdb9e9cc"
      },
      "source": [
        "# write a python code to convert Centrigrade to Fahrenheit , get the value Centrigrade from the user. \n",
        "# Sample Input:\n",
        "# Enter Centrigrade:  23.5 \n",
        "\n",
        "cent = float(input(\"Enter centigrade:\"))\n",
        "fahr = (cent * 1.8) + 32\n",
        "print(fahr)"
      ],
      "execution_count": 25,
      "outputs": [
        {
          "output_type": "stream",
          "name": "stdout",
          "text": [
            "Enter centigrade:23.5\n",
            "74.30000000000001\n"
          ]
        }
      ]
    },
    {
      "cell_type": "code",
      "metadata": {
        "id": "U2jXh8GNDk3Q",
        "colab": {
          "base_uri": "https://localhost:8080/"
        },
        "outputId": "75fbf102-418b-49a5-ec45-2749b5b21ce2"
      },
      "source": [
        "# write a python code to convert Fahrenheit to Centrigrade, get the value Fahreheit from the user. \n",
        "# Sample Input:\n",
        "# Enter Fahreheit:  23.5 \n",
        "\n",
        "fahr = float(input(\"Enter fahrenheit:\"))\n",
        "cent = (fahr -32)/1.8\n",
        "print(fahr)\n",
        "\n",
        "\n"
      ],
      "execution_count": 26,
      "outputs": [
        {
          "output_type": "stream",
          "name": "stdout",
          "text": [
            "Enter fahrenheit:23.5\n",
            "23.5\n"
          ]
        }
      ]
    },
    {
      "cell_type": "code",
      "metadata": {
        "id": "UH0S-lJJFDQ0",
        "colab": {
          "base_uri": "https://localhost:8080/"
        },
        "outputId": "24863246-214e-4544-be1b-f2ff6b6ea3f5"
      },
      "source": [
        "# Write a python program of your choice which uses arithmetic operations (use both operators and functions ) with meaningful application \n",
        "import math\n",
        "a=50\n",
        "b=30\n",
        "c=20\n",
        "sum= a+b+c\n",
        "square= math.sqrt(sum)\n",
        "\n",
        "print(square)\n",
        "\n",
        "\n"
      ],
      "execution_count": 36,
      "outputs": [
        {
          "output_type": "stream",
          "name": "stdout",
          "text": [
            "10.0\n"
          ]
        }
      ]
    },
    {
      "cell_type": "code",
      "metadata": {
        "id": "h18SMgbAG1AL",
        "colab": {
          "base_uri": "https://localhost:8080/"
        },
        "outputId": "0e03ea7c-c7f0-4925-99a0-d42a200cbfe3"
      },
      "source": [
        "# create a variable called my_neg to store  negative value \n",
        "import math\n",
        "my_neg = -45\n",
        "# create a variable called my_float to store float value \n",
        "my_float = 4.567\n",
        "\n",
        "# create a variable called my_complex to store complex value \n",
        "a= complex(3,2)\n",
        "print(a)\n",
        "# Note: there a various method to create complex numbers \n",
        "\n",
        "# perform mathematical operations on complex numbers \n",
        "b= complex(5,6)\n",
        "print(a+b)\n",
        "print(a-b)\n",
        "print(a/b)\n"
      ],
      "execution_count": 30,
      "outputs": [
        {
          "output_type": "stream",
          "name": "stdout",
          "text": [
            "(3+2j)\n",
            "(8+8j)\n",
            "(-2-4j)\n",
            "(0.44262295081967207-0.13114754098360654j)\n"
          ]
        }
      ]
    },
    {
      "cell_type": "code",
      "metadata": {
        "id": "D9zXw7dfeuQG",
        "colab": {
          "base_uri": "https://localhost:8080/",
          "height": 128
        },
        "outputId": "40cfa59a-ce70-4c95-c8da-56ffdff270a2"
      },
      "source": [
        "# create a variable called break and assign it a value of 15. what is the response and find the reason behind the behaviour.  \n",
        "break= 34 \n",
        "#since its a system defined variable it doesnt accept"
      ],
      "execution_count": 31,
      "outputs": [
        {
          "output_type": "error",
          "ename": "SyntaxError",
          "evalue": "ignored",
          "traceback": [
            "\u001b[0;36m  File \u001b[0;32m\"<ipython-input-31-89daedb47c8b>\"\u001b[0;36m, line \u001b[0;32m2\u001b[0m\n\u001b[0;31m    break= 34\u001b[0m\n\u001b[0m         ^\u001b[0m\n\u001b[0;31mSyntaxError\u001b[0m\u001b[0;31m:\u001b[0m invalid syntax\n"
          ]
        }
      ]
    },
    {
      "cell_type": "code",
      "metadata": {
        "colab": {
          "base_uri": "https://localhost:8080/"
        },
        "id": "fDPZ89vTmA3i",
        "outputId": "d5a6231c-3d16-43b8-ecd0-5e41d459e389"
      },
      "source": [
        "result =\"hello world\"\n",
        "print \"result[0]\""
      ],
      "execution_count": null,
      "outputs": [
        {
          "output_type": "stream",
          "name": "stdout",
          "text": [
            "h\n"
          ]
        }
      ]
    },
    {
      "cell_type": "code",
      "metadata": {
        "id": "5sv7vl8_R3P5",
        "colab": {
          "base_uri": "https://localhost:8080/"
        },
        "outputId": "47729817-6be0-4d34-a727-e416be5816d3"
      },
      "source": [
        "# String operations \n",
        "#Write a program to get the name of the guest , then greet the user using their name as part of greeting \n",
        "# Sample Input \n",
        "# Enter the Guest Name: Writer Sudha Murthy \n",
        "# Sample Output \n",
        "# I am extremly hounor to welcome Sudha Murthy to ....... \n",
        "\n",
        "name =input(\"enter the guest name:\")\n",
        "print(\"I am extremely honored to welcome \"+ name +\"to MAHE\")"
      ],
      "execution_count": 37,
      "outputs": [
        {
          "output_type": "stream",
          "name": "stdout",
          "text": [
            "enter the guest name:sudha murthy\n",
            "I am extremely honored to welcome sudha murthyto MAHE\n"
          ]
        }
      ]
    },
    {
      "cell_type": "code",
      "metadata": {
        "id": "EkN2V3BzTyYh",
        "colab": {
          "base_uri": "https://localhost:8080/"
        },
        "outputId": "51f27178-9b1c-49ac-9a32-bb1dc9197a22"
      },
      "source": [
        "quotes  = \"Don't judge each day by the harvest you reap but by the seeds that you plant.\"\n",
        "\n",
        "# count the total number of characters in the variable quotes \n",
        "print(len(quotes))\n",
        "# convert the smaller case to upper case, upper case to smaller case \n",
        "print(quotes.swapcase())\n",
        "\n",
        "# check whether the numeric value is present or not \n",
        "print(quotes.isnumeric())\n",
        "\n",
        "# Check whether the word \"harvest\" present in the string or not \n",
        "if \"harvest\" in quotes:\n",
        "  print(\"yes, it is present\")\n",
        "# replace the (.) with (!) \n",
        "print(quotes.replace('.','!'))"
      ],
      "execution_count": 53,
      "outputs": [
        {
          "output_type": "stream",
          "name": "stdout",
          "text": [
            "77\n",
            "dON'T JUDGE EACH DAY BY THE HARVEST YOU REAP BUT BY THE SEEDS THAT YOU PLANT.\n",
            "False\n",
            "yes, it is present\n",
            "Don't judge each day by the harvest you reap but by the seeds that you plant!\n"
          ]
        }
      ]
    },
    {
      "cell_type": "code",
      "metadata": {
        "id": "9xasXs-dWMTc",
        "colab": {
          "base_uri": "https://localhost:8080/"
        },
        "outputId": "5ddd9cef-8247-4af2-d672-2049241f61f3"
      },
      "source": [
        "# Explore any 5 string build-in functions which is not discussed in the class\n",
        "# provide with suitable examples \n",
        "\n",
        "string1= \"hello world\"\n",
        "\n",
        "print(string1.isspace())\n",
        "print(string1.capitalize())\n",
        "print(min(string1))\n",
        "print(max(string1))\n",
        "print(string1.title())\n"
      ],
      "execution_count": 70,
      "outputs": [
        {
          "output_type": "stream",
          "name": "stdout",
          "text": [
            "False\n",
            "Hello world\n",
            " \n",
            "w\n",
            "Hello World\n"
          ]
        }
      ]
    },
    {
      "cell_type": "code",
      "metadata": {
        "id": "vs0lRRDRtRFQ",
        "colab": {
          "base_uri": "https://localhost:8080/"
        },
        "outputId": "76d2d6be-e3d6-4e16-c6e2-6824730c21a0"
      },
      "source": [
        "num_int =55\n",
        "num_str =\"34\"\n",
        "a=int(num_str)\n",
        "total = int(num_int + a)\n",
        "print (total)\n",
        "print (type(num_int))\n",
        "print (type(num_str))\n"
      ],
      "execution_count": 72,
      "outputs": [
        {
          "output_type": "stream",
          "name": "stdout",
          "text": [
            "89\n",
            "<class 'int'>\n",
            "<class 'str'>\n"
          ]
        }
      ]
    },
    {
      "cell_type": "code",
      "metadata": {
        "id": "Rbq2VWPy4Hp-",
        "colab": {
          "base_uri": "https://localhost:8080/",
          "height": 262
        },
        "outputId": "af84db4a-acd0-48d8-d452-90d9ec4d3236"
      },
      "source": [
        "#Find potential sources of runtime errors in this code snippet:\n",
        "\n",
        "dividend = float(input(\"Please enter the dividend: \"))\n",
        "divisor = float(input(\"Please enter the divisor: \"))\n",
        "quotient = dividend / divisor\n",
        "quotient_rounded = round(quotient)\n",
        "\n",
        "print(quotient_rounded)\n"
      ],
      "execution_count": 76,
      "outputs": [
        {
          "name": "stdout",
          "output_type": "stream",
          "text": [
            "Please enter the dividend: 40\n",
            "Please enter the divisor: 0\n"
          ]
        },
        {
          "output_type": "error",
          "ename": "ZeroDivisionError",
          "evalue": "ignored",
          "traceback": [
            "\u001b[0;31m---------------------------------------------------------------------------\u001b[0m",
            "\u001b[0;31mZeroDivisionError\u001b[0m                         Traceback (most recent call last)",
            "\u001b[0;32m<ipython-input-76-85912c75c85e>\u001b[0m in \u001b[0;36m<module>\u001b[0;34m()\u001b[0m\n\u001b[1;32m      3\u001b[0m \u001b[0mdividend\u001b[0m \u001b[0;34m=\u001b[0m \u001b[0mfloat\u001b[0m\u001b[0;34m(\u001b[0m\u001b[0minput\u001b[0m\u001b[0;34m(\u001b[0m\u001b[0;34m\"Please enter the dividend: \"\u001b[0m\u001b[0;34m)\u001b[0m\u001b[0;34m)\u001b[0m\u001b[0;34m\u001b[0m\u001b[0;34m\u001b[0m\u001b[0m\n\u001b[1;32m      4\u001b[0m \u001b[0mdivisor\u001b[0m \u001b[0;34m=\u001b[0m \u001b[0mfloat\u001b[0m\u001b[0;34m(\u001b[0m\u001b[0minput\u001b[0m\u001b[0;34m(\u001b[0m\u001b[0;34m\"Please enter the divisor: \"\u001b[0m\u001b[0;34m)\u001b[0m\u001b[0;34m)\u001b[0m\u001b[0;34m\u001b[0m\u001b[0;34m\u001b[0m\u001b[0m\n\u001b[0;32m----> 5\u001b[0;31m \u001b[0mquotient\u001b[0m \u001b[0;34m=\u001b[0m \u001b[0mdividend\u001b[0m \u001b[0;34m/\u001b[0m \u001b[0mdivisor\u001b[0m\u001b[0;34m\u001b[0m\u001b[0;34m\u001b[0m\u001b[0m\n\u001b[0m\u001b[1;32m      6\u001b[0m \u001b[0mquotient_rounded\u001b[0m \u001b[0;34m=\u001b[0m \u001b[0mround\u001b[0m\u001b[0;34m(\u001b[0m\u001b[0mquotient\u001b[0m\u001b[0;34m)\u001b[0m\u001b[0;34m\u001b[0m\u001b[0;34m\u001b[0m\u001b[0m\n\u001b[1;32m      7\u001b[0m \u001b[0;34m\u001b[0m\u001b[0m\n",
            "\u001b[0;31mZeroDivisionError\u001b[0m: float division by zero"
          ]
        }
      ]
    },
    {
      "cell_type": "code",
      "metadata": {
        "id": "yNDpOmfoNZhD",
        "colab": {
          "base_uri": "https://localhost:8080/"
        },
        "outputId": "6ff62c9f-51b4-4fca-8eb8-f0399af5a17f"
      },
      "source": [
        "# print the quotes : Don't judge each day by the harvest you reap but by the seeds that you plant.\n",
        "# Example for syntax Error \n",
        "\n",
        "print (\"Don't judge each day by the harvest you reap but by the seeds that you plant\")\n"
      ],
      "execution_count": 77,
      "outputs": [
        {
          "output_type": "stream",
          "name": "stdout",
          "text": [
            "Don't judge each day by the harvest you reap but by the seeds that you plant\n"
          ]
        }
      ]
    },
    {
      "cell_type": "code",
      "metadata": {
        "id": "3PLbQJiLOhup"
      },
      "source": [
        "# print the Quotes :Don't judge each day by the harvest you reap but by the seeds that you plant.\n",
        "Print (\"Don't judge each day by the harvest you reap but by the seeds that you plant')"
      ],
      "execution_count": null,
      "outputs": []
    },
    {
      "cell_type": "code",
      "metadata": {
        "id": "qG-UqL6yPvLY",
        "colab": {
          "base_uri": "https://localhost:8080/"
        },
        "outputId": "4442fcf0-f367-4b18-ce95-440069fd0746"
      },
      "source": [
        "# identify the error, label the type of error and correct the error \n",
        "class1 =\"plant\"     #class is inbuilt function\n",
        "crop_name =\"Brinjal\"     #cannot use space in variable name\n",
        "yeid = \"20kg \"            # cannot club int and char and indentation error\n",
        "# print name of the class, crop name and yeid \n",
        "print(class1)\n",
        "print(yeid)\n",
        "print(crop_name)\n",
        "x=10\n",
        "print (x)  # capital X is not defined\n",
        "# print the value of x \n",
        "\n"
      ],
      "execution_count": 81,
      "outputs": [
        {
          "output_type": "stream",
          "name": "stdout",
          "text": [
            "plant\n",
            "20kg \n",
            "Brinjal\n",
            "10\n"
          ]
        }
      ]
    },
    {
      "cell_type": "code",
      "metadata": {
        "id": "y4KL5WaiL_h0",
        "colab": {
          "base_uri": "https://localhost:8080/"
        },
        "outputId": "b1ccdc5e-00e0-49d0-f249-cdb06bf03eb0"
      },
      "source": [
        "# Find the errors in the coding and correct \n",
        "# formula to convert centrigrade to fahr\n",
        "\n",
        "\n",
        "C = 21; F = 9/5*C + 32\n",
        "print(F)\n"
      ],
      "execution_count": 1,
      "outputs": [
        {
          "output_type": "stream",
          "name": "stdout",
          "text": [
            "69.80000000000001\n"
          ]
        }
      ]
    },
    {
      "cell_type": "code",
      "metadata": {
        "id": "OEGKfzBuMe5b",
        "colab": {
          "base_uri": "https://localhost:8080/"
        },
        "outputId": "e1d31537-0028-46f2-ca0d-f0f02a1f8191"
      },
      "source": [
        "#Explain why the code is not working \n",
        "c= a + b \n",
        "a =10 \n",
        "b = 5 \n",
        "print(c)\n",
        "\n",
        "# the values of a and b are initially garbage values at line 1, once the code is run then the values of a and b are assigned"
      ],
      "execution_count": 56,
      "outputs": [
        {
          "output_type": "stream",
          "name": "stdout",
          "text": [
            "80\n"
          ]
        }
      ]
    },
    {
      "cell_type": "code",
      "metadata": {
        "colab": {
          "base_uri": "https://localhost:8080/"
        },
        "id": "GeVaIE5lK6Xk",
        "outputId": "5a7dd658-f462-4536-a1a7-bdd28d62e2d5"
      },
      "source": [
        "# Find the bugs in the below code, correct the mistakes and comment suggestions \n",
        "from math import pi\n",
        "h = 5.0 # height\n",
        "b = 2.0 # base\n",
        "r = 1.5 #radius\n",
        "area_parallelogram = h*b\n",
        "print (\"The area of the parallelogram is %.3f\" %area_parallelogram)\n",
        "area_square = b**2\n",
        "print (\"The area of the square is %d\" %area_square)\n",
        "area_circle = pi*r**2\n",
        "print (\"The area of the circle is %.3f\" %area_circle)\n",
        "volume_cone = 1.0/3*pi*r**2*h\n",
        "print (\"The volume of the cone is %.3f\" %volume_cone)"
      ],
      "execution_count": 10,
      "outputs": [
        {
          "output_type": "stream",
          "name": "stdout",
          "text": [
            "The area of the parallelogram is 10.000\n",
            "The area of the square is 4\n",
            "The area of the circle is 7.069\n",
            "The volume of the cone is 11.781\n"
          ]
        }
      ]
    },
    {
      "cell_type": "code",
      "metadata": {
        "colab": {
          "base_uri": "https://localhost:8080/"
        },
        "id": "o5pap43SGS_9",
        "outputId": "c4c9c9bd-f47a-432a-c473-80e77baaa9dd"
      },
      "source": [
        "# This code shows the use math module \n",
        "# Run time error and Logical Error \n",
        "\n",
        "from math import sin\n",
        "c=5\n",
        "r= sin(c)\n",
        "\n",
        "x=2.4\n",
        "y = 2.5 + 3j\n",
        "\n",
        "y_new = abs(y)\n",
        "print(y_new)\n",
        "\n",
        "print(sin(x))\n",
        "print(sin(y_new))"
      ],
      "execution_count": 18,
      "outputs": [
        {
          "output_type": "stream",
          "name": "stdout",
          "text": [
            "3.905124837953327\n",
            "0.675463180551151\n",
            "-0.6914773966101274\n"
          ]
        }
      ]
    },
    {
      "cell_type": "code",
      "metadata": {
        "id": "YI47Zx77kag2",
        "colab": {
          "base_uri": "https://localhost:8080/"
        },
        "outputId": "85746a29-6fa9-49f5-ba3e-bee92a9b75f9"
      },
      "source": [
        "print(\"Hello, World!\")\n",
        "print(5 + 6)\n",
        "print(\"All finished!\")"
      ],
      "execution_count": 20,
      "outputs": [
        {
          "output_type": "stream",
          "name": "stdout",
          "text": [
            "Hello, World!\n",
            "11\n",
            "All finished!\n"
          ]
        }
      ]
    },
    {
      "cell_type": "code",
      "metadata": {
        "id": "1BsRwEjLqSxE",
        "colab": {
          "base_uri": "https://localhost:8080/"
        },
        "outputId": "13d7b0db-3956-4e3c-cb4b-1c9161efa18f"
      },
      "source": [
        "# Print the statement, Kindly help me!\n",
        "print (\"Kindly help me!\")"
      ],
      "execution_count": 19,
      "outputs": [
        {
          "output_type": "stream",
          "name": "stdout",
          "text": [
            "Kindly help me!\n"
          ]
        }
      ]
    },
    {
      "cell_type": "code",
      "metadata": {
        "id": "0hlQygpy9Nto",
        "colab": {
          "base_uri": "https://localhost:8080/"
        },
        "outputId": "9996cad3-3fe3-4ff8-e625-f20568e7902b"
      },
      "source": [
        "# print the value of the course \n",
        "course = \"Programming with Python\"\n",
        "print (course)"
      ],
      "execution_count": 21,
      "outputs": [
        {
          "output_type": "stream",
          "name": "stdout",
          "text": [
            "Programming with Python\n"
          ]
        }
      ]
    },
    {
      "cell_type": "code",
      "metadata": {
        "id": "ta5XT3nWbX5D"
      },
      "source": [
        ""
      ],
      "execution_count": null,
      "outputs": []
    },
    {
      "cell_type": "code",
      "metadata": {
        "id": "KRQbpCioCZmv"
      },
      "source": [
        "#store the size of the land in the variable size  in square feet \n",
        "size = 200 \n",
        "#store the income as in\n",
        "#print the value of  both size and income \n",
        "income= 9000    #in is system defined \n",
        "\n",
        "print(size)\n",
        "print(income)\n"
      ],
      "execution_count": null,
      "outputs": []
    },
    {
      "cell_type": "code",
      "metadata": {
        "id": "AwZuxqIoEJVV"
      },
      "source": [
        "print (\"Don't eat those cookies before dinner.\")"
      ],
      "execution_count": null,
      "outputs": []
    },
    {
      "cell_type": "code",
      "metadata": {
        "id": "l9ymjrwAcGE7"
      },
      "source": [
        "print (\"Hello \\t \\t \\t world \")"
      ],
      "execution_count": null,
      "outputs": []
    },
    {
      "cell_type": "code",
      "metadata": {
        "id": "6zLCndnBhJkF"
      },
      "source": [
        "print (\"I like Python Programming!\")"
      ],
      "execution_count": null,
      "outputs": []
    },
    {
      "cell_type": "code",
      "metadata": {
        "colab": {
          "base_uri": "https://localhost:8080/"
        },
        "id": "p3CqLQsAhS7o",
        "outputId": "299df529-39ff-4435-e6e3-5925a9767092"
      },
      "source": [
        "print (\"The first program in any programming language is \"\"Hello World\"\".\")"
      ],
      "execution_count": 22,
      "outputs": [
        {
          "output_type": "stream",
          "name": "stdout",
          "text": [
            "The first program in any programming language is Hello World.\n"
          ]
        }
      ]
    },
    {
      "cell_type": "code",
      "metadata": {
        "colab": {
          "base_uri": "https://localhost:8080/"
        },
        "id": "y2bSAfLTcNw8",
        "outputId": "160602b1-b3dd-4c48-d22b-21e00f0fa5d6"
      },
      "source": [
        "cropName=\"Drumstick\"\n",
        "year2021 = 'Drumstick'\n",
        "print (cropName)"
      ],
      "execution_count": 25,
      "outputs": [
        {
          "output_type": "stream",
          "name": "stdout",
          "text": [
            "Drumstick\n"
          ]
        }
      ]
    },
    {
      "cell_type": "code",
      "metadata": {
        "colab": {
          "base_uri": "https://localhost:8080/"
        },
        "id": "naQO1yYtelji",
        "outputId": "cada7e22-4076-4a04-e41c-7192f82f3660"
      },
      "source": [
        "# find the bug\n",
        "1/2"
      ],
      "execution_count": 28,
      "outputs": [
        {
          "output_type": "execute_result",
          "data": {
            "text/plain": [
              "0.5"
            ]
          },
          "metadata": {},
          "execution_count": 28
        }
      ]
    },
    {
      "cell_type": "code",
      "metadata": {
        "colab": {
          "base_uri": "https://localhost:8080/"
        },
        "id": "ww59VvltfTN6",
        "outputId": "46d75687-8274-46b1-c529-b147c6525772"
      },
      "source": [
        "profit = 1000\n",
        "#increment profit by 1\n",
        "profit+= 1\n",
        "print(profit)"
      ],
      "execution_count": 29,
      "outputs": [
        {
          "output_type": "stream",
          "name": "stdout",
          "text": [
            "1001\n"
          ]
        }
      ]
    },
    {
      "cell_type": "code",
      "metadata": {
        "colab": {
          "base_uri": "https://localhost:8080/"
        },
        "id": "cK7zIHHyizeI",
        "outputId": "95645e66-072b-45b1-9348-4694150656ea"
      },
      "source": [
        "import math\n",
        "print (math.log(10))"
      ],
      "execution_count": 31,
      "outputs": [
        {
          "output_type": "stream",
          "name": "stdout",
          "text": [
            "2.302585092994046\n"
          ]
        }
      ]
    },
    {
      "cell_type": "code",
      "metadata": {
        "colab": {
          "base_uri": "https://localhost:8080/"
        },
        "id": "kVuiqskDjy5L",
        "outputId": "e18e1b16-f365-474c-bb8b-3962be5fe5ba"
      },
      "source": [
        "print( math.sin(2))"
      ],
      "execution_count": 32,
      "outputs": [
        {
          "output_type": "stream",
          "name": "stdout",
          "text": [
            "0.9092974268256817\n"
          ]
        }
      ]
    },
    {
      "cell_type": "code",
      "metadata": {
        "colab": {
          "base_uri": "https://localhost:8080/"
        },
        "id": "c-ad-Nzrq77u",
        "outputId": "d259e215-76fa-4169-eebb-a6dacd141021"
      },
      "source": [
        "num_int =55\n",
        "num_str =\"34\"\n",
        "x=int(num_str)\n",
        "total = num_int + x\n",
        "print (total)\n",
        "print (type(num_int))\n",
        "print (type(num_str))\n"
      ],
      "execution_count": 34,
      "outputs": [
        {
          "output_type": "stream",
          "name": "stdout",
          "text": [
            "89\n",
            "<class 'int'>\n",
            "<class 'str'>\n"
          ]
        }
      ]
    },
    {
      "cell_type": "code",
      "metadata": {
        "id": "jPjjyFnttQmk",
        "colab": {
          "base_uri": "https://localhost:8080/"
        },
        "outputId": "2dddbcd4-45ed-498e-f027-ef33c2f0e76e"
      },
      "source": [
        "# Trying to print the multiplication entry, but it throws error \n",
        "5*6 "
      ],
      "execution_count": 35,
      "outputs": [
        {
          "output_type": "execute_result",
          "data": {
            "text/plain": [
              "30"
            ]
          },
          "metadata": {},
          "execution_count": 35
        }
      ]
    },
    {
      "cell_type": "code",
      "metadata": {
        "id": "3BbHIDfm9m8Z",
        "colab": {
          "base_uri": "https://localhost:8080/"
        },
        "outputId": "29a65fcf-9785-44be-e998-fc447767daa0"
      },
      "source": [
        "# Trying to find the round of 10.2 \n",
        "round(10.2)\n"
      ],
      "execution_count": 36,
      "outputs": [
        {
          "output_type": "execute_result",
          "data": {
            "text/plain": [
              "10"
            ]
          },
          "metadata": {},
          "execution_count": 36
        }
      ]
    },
    {
      "cell_type": "code",
      "metadata": {
        "colab": {
          "base_uri": "https://localhost:8080/"
        },
        "id": "JgPti3XH905j",
        "outputId": "8d6dd61e-7341-4dec-c282-43ccc0ef8278"
      },
      "source": [
        "round(10.2)"
      ],
      "execution_count": 37,
      "outputs": [
        {
          "output_type": "execute_result",
          "data": {
            "text/plain": [
              "10"
            ]
          },
          "metadata": {},
          "execution_count": 37
        }
      ]
    },
    {
      "cell_type": "code",
      "metadata": {
        "colab": {
          "base_uri": "https://localhost:8080/"
        },
        "id": "SNu9AoTc96rR",
        "outputId": "ecd1d135-4aba-44a0-8aa9-3d6baffd9608"
      },
      "source": [
        "# Trying to calculate 2 to the power of 5 \n",
        "\n",
        "pow(2,5)"
      ],
      "execution_count": 39,
      "outputs": [
        {
          "output_type": "execute_result",
          "data": {
            "text/plain": [
              "32"
            ]
          },
          "metadata": {},
          "execution_count": 39
        }
      ]
    },
    {
      "cell_type": "code",
      "metadata": {
        "colab": {
          "base_uri": "https://localhost:8080/"
        },
        "id": "RYI_-mCi_uhB",
        "outputId": "7a9f30d8-c0d6-4815-a2e8-cd0e74501c05"
      },
      "source": [
        "#Trying to multiply 5 \n",
        "5*5 "
      ],
      "execution_count": 41,
      "outputs": [
        {
          "output_type": "execute_result",
          "data": {
            "text/plain": [
              "25"
            ]
          },
          "metadata": {},
          "execution_count": 41
        }
      ]
    },
    {
      "cell_type": "code",
      "metadata": {
        "id": "nBbRBfMb9JOs",
        "colab": {
          "base_uri": "https://localhost:8080/"
        },
        "outputId": "1c552bb7-7c44-4fde-8699-b4bd3efffcc7"
      },
      "source": [
        "# Trying to print the text message Hello \n",
        "\n",
        "print(\"Hello\") "
      ],
      "execution_count": 43,
      "outputs": [
        {
          "output_type": "stream",
          "name": "stdout",
          "text": [
            "Hello\n"
          ]
        }
      ]
    },
    {
      "cell_type": "code",
      "metadata": {
        "id": "79e4eQ0RbY4U"
      },
      "source": [
        "#store the size of the land in the variable size  in square feet \n",
        "size = 200 \n",
        "#store the income as in\n",
        "#print the value of  both size and income \n",
        "in= 9000\n",
        "cropName=\"Drumstick\"\n",
        "year@2021 = 'Drumstick'"
      ],
      "execution_count": null,
      "outputs": []
    }
  ]
}